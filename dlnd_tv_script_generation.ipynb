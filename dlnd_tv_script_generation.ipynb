{
 "cells": [
  {
   "cell_type": "markdown",
   "metadata": {},
   "source": [
    "# TV Script Generation\n",
    "In this project, you'll generate your own [Simpsons](https://en.wikipedia.org/wiki/The_Simpsons) TV scripts using RNNs.  You'll be using part of the [Simpsons dataset](https://www.kaggle.com/wcukierski/the-simpsons-by-the-data) of scripts from 27 seasons.  The Neural Network you'll build will generate a new TV script for a scene at [Moe's Tavern](https://simpsonswiki.com/wiki/Moe's_Tavern).\n",
    "## Get the Data\n",
    "The data is already provided for you.  You'll be using a subset of the original dataset.  It consists of only the scenes in Moe's Tavern.  This doesn't include other versions of the tavern, like \"Moe's Cavern\", \"Flaming Moe's\", \"Uncle Moe's Family Feed-Bag\", etc.."
   ]
  },
  {
   "cell_type": "code",
   "execution_count": 2,
   "metadata": {},
   "outputs": [],
   "source": [
    "\"\"\"\n",
    "DON'T MODIFY ANYTHING IN THIS CELL\n",
    "\"\"\"\n",
    "import helper\n",
    "\n",
    "data_dir = './data/simpsons/moes_tavern_lines.txt'\n",
    "text = helper.load_data(data_dir)\n",
    "# Ignore notice, since we don't use it for analysing the data\n",
    "text = text[81:]"
   ]
  },
  {
   "cell_type": "markdown",
   "metadata": {},
   "source": [
    "## Explore the Data\n",
    "Play around with `view_sentence_range` to view different parts of the data."
   ]
  },
  {
   "cell_type": "code",
   "execution_count": 3,
   "metadata": {},
   "outputs": [
    {
     "name": "stdout",
     "output_type": "stream",
     "text": [
      "Dataset Stats\n",
      "Roughly the number of unique words: 11492\n",
      "Number of scenes: 262\n",
      "Average number of sentences in each scene: 15.248091603053435\n",
      "Number of lines: 4257\n",
      "Average number of words in each line: 11.50434578341555\n",
      "\n",
      "The sentences 0 to 10:\n",
      "Moe_Szyslak: (INTO PHONE) Moe's Tavern. Where the elite meet to drink.\n",
      "Bart_Simpson: Eh, yeah, hello, is Mike there? Last name, Rotch.\n",
      "Moe_Szyslak: (INTO PHONE) Hold on, I'll check. (TO BARFLIES) Mike Rotch. Mike Rotch. Hey, has anybody seen Mike Rotch, lately?\n",
      "Moe_Szyslak: (INTO PHONE) Listen you little puke. One of these days I'm gonna catch you, and I'm gonna carve my name on your back with an ice pick.\n",
      "Moe_Szyslak: What's the matter Homer? You're not your normal effervescent self.\n",
      "Homer_Simpson: I got my problems, Moe. Give me another one.\n",
      "Moe_Szyslak: Homer, hey, you should not drink to forget your problems.\n",
      "Barney_Gumble: Yeah, you should only drink to enhance your social skills.\n",
      "\n",
      "\n"
     ]
    }
   ],
   "source": [
    "view_sentence_range = (0, 10)\n",
    "\n",
    "\"\"\"\n",
    "DON'T MODIFY ANYTHING IN THIS CELL\n",
    "\"\"\"\n",
    "import numpy as np\n",
    "\n",
    "print('Dataset Stats')\n",
    "print('Roughly the number of unique words: {}'.format(len({word: None for word in text.split()})))\n",
    "scenes = text.split('\\n\\n')\n",
    "print('Number of scenes: {}'.format(len(scenes)))\n",
    "sentence_count_scene = [scene.count('\\n') for scene in scenes]\n",
    "print('Average number of sentences in each scene: {}'.format(np.average(sentence_count_scene)))\n",
    "\n",
    "sentences = [sentence for scene in scenes for sentence in scene.split('\\n')]\n",
    "print('Number of lines: {}'.format(len(sentences)))\n",
    "word_count_sentence = [len(sentence.split()) for sentence in sentences]\n",
    "print('Average number of words in each line: {}'.format(np.average(word_count_sentence)))\n",
    "\n",
    "print()\n",
    "print('The sentences {} to {}:'.format(*view_sentence_range))\n",
    "print('\\n'.join(text.split('\\n')[view_sentence_range[0]:view_sentence_range[1]]))"
   ]
  },
  {
   "cell_type": "markdown",
   "metadata": {},
   "source": [
    "## Implement Preprocessing Functions\n",
    "The first thing to do to any dataset is preprocessing.  Implement the following preprocessing functions below:\n",
    "- Lookup Table\n",
    "- Tokenize Punctuation\n",
    "\n",
    "### Lookup Table\n",
    "To create a word embedding, you first need to transform the words to ids.  In this function, create two dictionaries:\n",
    "- Dictionary to go from the words to an id, we'll call `vocab_to_int`\n",
    "- Dictionary to go from the id to word, we'll call `int_to_vocab`\n",
    "\n",
    "Return these dictionaries in the following tuple `(vocab_to_int, int_to_vocab)`"
   ]
  },
  {
   "cell_type": "code",
   "execution_count": 4,
   "metadata": {},
   "outputs": [
    {
     "name": "stdout",
     "output_type": "stream",
     "text": [
      "Tests Passed\n"
     ]
    }
   ],
   "source": [
    "import numpy as np\n",
    "import problem_unittests as tests\n",
    "from collections import Counter\n",
    "\n",
    "def create_lookup_tables(text):\n",
    "    \"\"\"\n",
    "    Create lookup tables for vocabulary\n",
    "    :param text: The text of tv scripts split into words\n",
    "    :return: A tuple of dicts (vocab_to_int, int_to_vocab)\n",
    "    \"\"\"\n",
    "    # TODO: Implement Function\n",
    "    word_counts = Counter(text)\n",
    "    sorted_vocab = sorted(word_counts, key=word_counts.get, reverse=True)\n",
    "    int_to_vocab = {ii: word for ii, word in enumerate(sorted_vocab)}\n",
    "    vocab_to_int = {word: ii for ii, word in int_to_vocab.items()}\n",
    "    return vocab_to_int, int_to_vocab\n",
    "\n",
    "\n",
    "\"\"\"\n",
    "DON'T MODIFY ANYTHING IN THIS CELL THAT IS BELOW THIS LINE\n",
    "\"\"\"\n",
    "tests.test_create_lookup_tables(create_lookup_tables)"
   ]
  },
  {
   "cell_type": "markdown",
   "metadata": {},
   "source": [
    "### Tokenize Punctuation\n",
    "We'll be splitting the script into a word array using spaces as delimiters.  However, punctuations like periods and exclamation marks make it hard for the neural network to distinguish between the word \"bye\" and \"bye!\".\n",
    "\n",
    "Implement the function `token_lookup` to return a dict that will be used to tokenize symbols like \"!\" into \"||Exclamation_Mark||\".  Create a dictionary for the following symbols where the symbol is the key and value is the token:\n",
    "- Period ( . )\n",
    "- Comma ( , )\n",
    "- Quotation Mark ( \" )\n",
    "- Semicolon ( ; )\n",
    "- Exclamation mark ( ! )\n",
    "- Question mark ( ? )\n",
    "- Left Parentheses ( ( )\n",
    "- Right Parentheses ( ) )\n",
    "- Dash ( -- )\n",
    "- Return ( \\n )\n",
    "\n",
    "This dictionary will be used to token the symbols and add the delimiter (space) around it.  This separates the symbols as it's own word, making it easier for the neural network to predict on the next word. Make sure you don't use a token that could be confused as a word. Instead of using the token \"dash\", try using something like \"||dash||\"."
   ]
  },
  {
   "cell_type": "code",
   "execution_count": 5,
   "metadata": {},
   "outputs": [
    {
     "name": "stdout",
     "output_type": "stream",
     "text": [
      "Tests Passed\n"
     ]
    }
   ],
   "source": [
    "def token_lookup():\n",
    "    \"\"\"\n",
    "    Generate a dict to turn punctuation into a token.\n",
    "    :return: Tokenize dictionary where the key is the punctuation and the value is the token\n",
    "    \"\"\"\n",
    "    # TODO: Implement Function\n",
    "    dictionary = {'.': 'Period',\n",
    "                  ',': 'Comma',\n",
    "                  '\"': 'QuotationMark',\n",
    "                  ';': 'Semicolon',\n",
    "                  '!': 'Exclamationmark',\n",
    "                  '?': 'Questionmark',\n",
    "                  '(': 'LeftParentheses',\n",
    "                  ')': 'RightParentheses',\n",
    "                  '--': 'Dash',\n",
    "                  '\\n': 'Return'}\n",
    "\n",
    "    return dictionary\n",
    "\n",
    "\"\"\"\n",
    "DON'T MODIFY ANYTHING IN THIS CELL THAT IS BELOW THIS LINE\n",
    "\"\"\"\n",
    "tests.test_tokenize(token_lookup)"
   ]
  },
  {
   "cell_type": "markdown",
   "metadata": {},
   "source": [
    "## Preprocess all the data and save it\n",
    "Running the code cell below will preprocess all the data and save it to file."
   ]
  },
  {
   "cell_type": "code",
   "execution_count": 6,
   "metadata": {},
   "outputs": [],
   "source": [
    "\"\"\"\n",
    "DON'T MODIFY ANYTHING IN THIS CELL\n",
    "\"\"\"\n",
    "# Preprocess Training, Validation, and Testing Data\n",
    "helper.preprocess_and_save_data(data_dir, token_lookup, create_lookup_tables)"
   ]
  },
  {
   "cell_type": "markdown",
   "metadata": {},
   "source": [
    "# Check Point\n",
    "This is your first checkpoint. If you ever decide to come back to this notebook or have to restart the notebook, you can start from here. The preprocessed data has been saved to disk."
   ]
  },
  {
   "cell_type": "code",
   "execution_count": 7,
   "metadata": {},
   "outputs": [],
   "source": [
    "\"\"\"\n",
    "DON'T MODIFY ANYTHING IN THIS CELL\n",
    "\"\"\"\n",
    "import helper\n",
    "import numpy as np\n",
    "import problem_unittests as tests\n",
    "\n",
    "int_text, vocab_to_int, int_to_vocab, token_dict = helper.load_preprocess()"
   ]
  },
  {
   "cell_type": "markdown",
   "metadata": {},
   "source": [
    "## Build the Neural Network\n",
    "You'll build the components necessary to build a RNN by implementing the following functions below:\n",
    "- get_inputs\n",
    "- get_init_cell\n",
    "- get_embed\n",
    "- build_rnn\n",
    "- build_nn\n",
    "- get_batches\n",
    "\n",
    "### Check the Version of TensorFlow and Access to GPU"
   ]
  },
  {
   "cell_type": "code",
   "execution_count": 8,
   "metadata": {},
   "outputs": [
    {
     "name": "stdout",
     "output_type": "stream",
     "text": [
      "TensorFlow Version: 1.0.1\n",
      "Default GPU Device: /gpu:0\n"
     ]
    }
   ],
   "source": [
    "\"\"\"\n",
    "DON'T MODIFY ANYTHING IN THIS CELL\n",
    "\"\"\"\n",
    "from distutils.version import LooseVersion\n",
    "import warnings\n",
    "import tensorflow as tf\n",
    "\n",
    "# Check TensorFlow Version\n",
    "assert LooseVersion(tf.__version__) >= LooseVersion('1.0'), 'Please use TensorFlow version 1.0 or newer'\n",
    "print('TensorFlow Version: {}'.format(tf.__version__))\n",
    "\n",
    "# Check for a GPU\n",
    "if not tf.test.gpu_device_name():\n",
    "    warnings.warn('No GPU found. Please use a GPU to train your neural network.')\n",
    "else:\n",
    "    print('Default GPU Device: {}'.format(tf.test.gpu_device_name()))"
   ]
  },
  {
   "cell_type": "markdown",
   "metadata": {},
   "source": [
    "### Input\n",
    "Implement the `get_inputs()` function to create TF Placeholders for the Neural Network.  It should create the following placeholders:\n",
    "- Input text placeholder named \"input\" using the [TF Placeholder](https://www.tensorflow.org/api_docs/python/tf/placeholder) `name` parameter.\n",
    "- Targets placeholder\n",
    "- Learning Rate placeholder\n",
    "\n",
    "Return the placeholders in the following tuple `(Input, Targets, LearningRate)`"
   ]
  },
  {
   "cell_type": "code",
   "execution_count": 9,
   "metadata": {},
   "outputs": [
    {
     "name": "stdout",
     "output_type": "stream",
     "text": [
      "Tests Passed\n"
     ]
    }
   ],
   "source": [
    "def get_inputs():\n",
    "    \"\"\"\n",
    "    Create TF Placeholders for input, targets, and learning rate.\n",
    "    :return: Tuple (input, targets, learning rate)\n",
    "    \"\"\"\n",
    "    # TODO: Implement Function\n",
    "    Inputs = tf.placeholder(tf.int32, [None, None], name = 'input')\n",
    "    Targets = tf.placeholder(tf.int32, [None, None], name = 'targets')\n",
    "    LearningRate = tf.placeholder(tf.float32, name = 'learning_rate')\n",
    "    return Inputs, Targets, LearningRate\n",
    "\n",
    "\n",
    "\"\"\"\n",
    "DON'T MODIFY ANYTHING IN THIS CELL THAT IS BELOW THIS LINE\n",
    "\"\"\"\n",
    "tests.test_get_inputs(get_inputs)"
   ]
  },
  {
   "cell_type": "markdown",
   "metadata": {},
   "source": [
    "### Build RNN Cell and Initialize\n",
    "Stack one or more [`BasicLSTMCells`](https://www.tensorflow.org/api_docs/python/tf/contrib/rnn/BasicLSTMCell) in a [`MultiRNNCell`](https://www.tensorflow.org/api_docs/python/tf/contrib/rnn/MultiRNNCell).\n",
    "- The Rnn size should be set using `rnn_size`\n",
    "- Initalize Cell State using the MultiRNNCell's [`zero_state()`](https://www.tensorflow.org/api_docs/python/tf/contrib/rnn/MultiRNNCell#zero_state) function\n",
    "    - Apply the name \"initial_state\" to the initial state using [`tf.identity()`](https://www.tensorflow.org/api_docs/python/tf/identity)\n",
    "\n",
    "Return the cell and initial state in the following tuple `(Cell, InitialState)`"
   ]
  },
  {
   "cell_type": "code",
   "execution_count": 85,
   "metadata": {
    "scrolled": true
   },
   "outputs": [
    {
     "name": "stdout",
     "output_type": "stream",
     "text": [
      "Tests Passed\n"
     ]
    }
   ],
   "source": [
    "def get_init_cell(batch_size, rnn_size):\n",
    "    \"\"\"\n",
    "    Create an RNN Cell and initialize it.\n",
    "    :param batch_size: Size of batches\n",
    "    :param rnn_size: Size of RNNs\n",
    "    :return: Tuple (cell, initialize state)\n",
    "    \"\"\"\n",
    "    # TODO: Implement Function\n",
    "    num_layers = 2\n",
    "\n",
    "    lstm = tf.contrib.rnn.BasicLSTMCell(rnn_size)\n",
    "\n",
    "    cell = tf.contrib.rnn.MultiRNNCell([lstm] * num_layers)\n",
    "\n",
    "    initial_state = cell.zero_state(batch_size, tf.float32)\n",
    "\n",
    "    initial_state = tf.identity(initial_state, name = 'initial_state')\n",
    "    \n",
    "    return cell, initial_state\n",
    "\n",
    "\n",
    "\"\"\"\n",
    "DON'T MODIFY ANYTHING IN THIS CELL THAT IS BELOW THIS LINE\n",
    "\"\"\"\n",
    "tests.test_get_init_cell(get_init_cell)"
   ]
  },
  {
   "cell_type": "markdown",
   "metadata": {},
   "source": [
    "### Word Embedding\n",
    "Apply embedding to `input_data` using TensorFlow.  Return the embedded sequence."
   ]
  },
  {
   "cell_type": "code",
   "execution_count": 11,
   "metadata": {},
   "outputs": [
    {
     "name": "stdout",
     "output_type": "stream",
     "text": [
      "Tests Passed\n"
     ]
    }
   ],
   "source": [
    "def get_embed(input_data, vocab_size, embed_dim):\n",
    "    \"\"\"\n",
    "    Create embedding for <input_data>.\n",
    "    :param input_data: TF placeholder for text input.\n",
    "    :param vocab_size: Number of words in vocabulary.\n",
    "    :param embed_dim: Number of embedding dimensions\n",
    "    :return: Embedded input.\n",
    "    \"\"\"\n",
    "    # TODO: Implement Function\n",
    "    \n",
    "    embedding = tf.Variable(tf.random_uniform((vocab_size, embed_dim), -1, 1))\n",
    "    embed = tf.nn.embedding_lookup(embedding, input_data)\n",
    "    return embed\n",
    "\n",
    "\n",
    "\"\"\"\n",
    "DON'T MODIFY ANYTHING IN THIS CELL THAT IS BELOW THIS LINE\n",
    "\"\"\"\n",
    "tests.test_get_embed(get_embed)"
   ]
  },
  {
   "cell_type": "markdown",
   "metadata": {},
   "source": [
    "### Build RNN\n",
    "You created a RNN Cell in the `get_init_cell()` function.  Time to use the cell to create a RNN.\n",
    "- Build the RNN using the [`tf.nn.dynamic_rnn()`](https://www.tensorflow.org/api_docs/python/tf/nn/dynamic_rnn)\n",
    " - Apply the name \"final_state\" to the final state using [`tf.identity()`](https://www.tensorflow.org/api_docs/python/tf/identity)\n",
    "\n",
    "Return the outputs and final_state state in the following tuple `(Outputs, FinalState)` "
   ]
  },
  {
   "cell_type": "code",
   "execution_count": 66,
   "metadata": {
    "scrolled": false
   },
   "outputs": [
    {
     "name": "stdout",
     "output_type": "stream",
     "text": [
      "Tests Passed\n"
     ]
    }
   ],
   "source": [
    "def build_rnn(cell, inputs):\n",
    "    \"\"\"\n",
    "    Create a RNN using a RNN Cell\n",
    "    :param cell: RNN Cell\n",
    "    :param inputs: Input text data\n",
    "    :return: Tuple (Outputs, Final State)\n",
    "    \"\"\"\n",
    "    # TODO: Implement Function\n",
    "    outputs, final_state = tf.nn.dynamic_rnn(cell, inputs, dtype=tf.float32)\n",
    "    final_state = tf.identity(final_state, name='final_state')\n",
    "\n",
    "    return outputs, final_state\n",
    "\n",
    "\n",
    "\"\"\"\n",
    "DON'T MODIFY ANYTHING IN THIS CELL THAT IS BELOW THIS LINE\n",
    "\"\"\"\n",
    "tests.test_build_rnn(build_rnn)"
   ]
  },
  {
   "cell_type": "markdown",
   "metadata": {},
   "source": [
    "### Build the Neural Network\n",
    "Apply the functions you implemented above to:\n",
    "- Apply embedding to `input_data` using your `get_embed(input_data, vocab_size, embed_dim)` function.\n",
    "- Build RNN using `cell` and your `build_rnn(cell, inputs)` function.\n",
    "- Apply a fully connected layer with a linear activation and `vocab_size` as the number of outputs.\n",
    "\n",
    "Return the logits and final state in the following tuple (Logits, FinalState) "
   ]
  },
  {
   "cell_type": "code",
   "execution_count": 132,
   "metadata": {},
   "outputs": [
    {
     "name": "stdout",
     "output_type": "stream",
     "text": [
      "Tests Passed\n"
     ]
    }
   ],
   "source": [
    "def build_nn(cell, rnn_size, input_data, vocab_size, embed_dim):\n",
    "    \"\"\"\n",
    "    Build part of the neural network\n",
    "    :param cell: RNN cell\n",
    "    :param rnn_size: Size of rnns\n",
    "    :param input_data: Input data\n",
    "    :param vocab_size: Vocabulary size\n",
    "    :param embed_dim: Number of embedding dimensions\n",
    "    :return: Tuple (Logits, FinalState)\n",
    "    \"\"\"\n",
    "    # TODO: Implement Function\n",
    "    \n",
    "    inputs = get_embed(input_data, vocab_size, embed_dim)\n",
    "    \n",
    "    outputs, final_state = build_rnn(cell, inputs)\n",
    "    \n",
    "    logits = tf.contrib.layers.fully_connected(outputs, vocab_size, \n",
    "                                               activation_fn=None,\n",
    "                                              weights_initializer=tf.truncated_normal_initializer(stddev=0.1))\n",
    "    \n",
    "    return logits, final_state\n",
    "\n",
    "\n",
    "\"\"\"\n",
    "DON'T MODIFY ANYTHING IN THIS CELL THAT IS BELOW THIS LINE\n",
    "\"\"\"\n",
    "tests.test_build_nn(build_nn)"
   ]
  },
  {
   "cell_type": "markdown",
   "metadata": {},
   "source": [
    "### Batches\n",
    "Implement `get_batches` to create batches of input and targets using `int_text`.  The batches should be a Numpy array with the shape `(number of batches, 2, batch size, sequence length)`. Each batch contains two elements:\n",
    "- The first element is a single batch of **input** with the shape `[batch size, sequence length]`\n",
    "- The second element is a single batch of **targets** with the shape `[batch size, sequence length]`\n",
    "\n",
    "If you can't fill the last batch with enough data, drop the last batch.\n",
    "\n",
    "For exmple, `get_batches([1, 2, 3, 4, 5, 6, 7, 8, 9, 10, 11, 12, 13, 14, 15], 2, 3)` would return a Numpy array of the following:\n",
    "```\n",
    "[\n",
    "  # First Batch\n",
    "  [\n",
    "    # Batch of Input\n",
    "    [[ 1  2  3], [ 7  8  9]],\n",
    "    # Batch of targets\n",
    "    [[ 2  3  4], [ 8  9 10]]\n",
    "  ],\n",
    " \n",
    "  # Second Batch\n",
    "  [\n",
    "    # Batch of Input\n",
    "    [[ 4  5  6], [10 11 12]],\n",
    "    # Batch of targets\n",
    "    [[ 5  6  7], [11 12 13]]\n",
    "  ]\n",
    "]\n",
    "```"
   ]
  },
  {
   "cell_type": "code",
   "execution_count": 42,
   "metadata": {},
   "outputs": [
    {
     "name": "stdout",
     "output_type": "stream",
     "text": [
      "Tests Passed\n"
     ]
    }
   ],
   "source": [
    "def get_batches(int_text, batch_size, seq_length):\n",
    "    \"\"\"\n",
    "    Return batches of input and target\n",
    "    :param int_text: Text with the words replaced by their ids\n",
    "    :param batch_size: The size of batch\n",
    "    :param seq_length: The length of sequence\n",
    "    :return: Batches as a Numpy array\n",
    "    \"\"\"\n",
    "    # TODO: Implement Function\n",
    "    \n",
    "    characters_per_batch = batch_size * seq_length\n",
    "    n_batches = len(int_text) // characters_per_batch\n",
    "    \n",
    "    # Keep only enough characters to make full batches\n",
    "    arr = np.array(int_text[:n_batches * characters_per_batch])\n",
    "    \n",
    "    # Reshape into n_seqs rows\n",
    "    arr = arr.reshape((batch_size, -1))\n",
    "    batches = []\n",
    "    for n in range(0, arr.shape[1], seq_length):\n",
    "        \n",
    "        # The features\n",
    "        x = arr[:, n : n + seq_length]\n",
    "        # The targets, shifted by one\n",
    "        y = np.zeros_like(x)\n",
    "        y[:, :-1], y[:, -1] = x[:, 1:], x[:, 0]\n",
    "        batches.append([x,y])\n",
    "        #yield x, y\n",
    "    batches=np.array(batches)\n",
    "    \n",
    "    return batches\n",
    "\n",
    "\n",
    "\"\"\"\n",
    "DON'T MODIFY ANYTHING IN THIS CELL THAT IS BELOW THIS LINE\n",
    "\"\"\"\n",
    "tests.test_get_batches(get_batches)"
   ]
  },
  {
   "cell_type": "markdown",
   "metadata": {},
   "source": [
    "## Neural Network Training\n",
    "### Hyperparameters\n",
    "Tune the following parameters:\n",
    "\n",
    "- Set `num_epochs` to the number of epochs.\n",
    "- Set `batch_size` to the batch size.\n",
    "- Set `rnn_size` to the size of the RNNs.\n",
    "- Set `embed_dim` to the size of the embedding.\n",
    "- Set `seq_length` to the length of sequence.\n",
    "- Set `learning_rate` to the learning rate.\n",
    "- Set `show_every_n_batches` to the number of batches the neural network should print progress."
   ]
  },
  {
   "cell_type": "code",
   "execution_count": 186,
   "metadata": {},
   "outputs": [],
   "source": [
    "# Number of Epochs\n",
    "num_epochs = 1000\n",
    "# Batch Size\n",
    "batch_size = 128\n",
    "# RNN Size\n",
    "rnn_size = 128\n",
    "# Embedding Dimension Size\n",
    "embed_dim = 30\n",
    "# Sequence Length\n",
    "seq_length = 15\n",
    "# Learning Rate\n",
    "learning_rate = 0.005\n",
    "# Show stats for every n number of batches\n",
    "show_every_n_batches = 100\n",
    "\n",
    "\"\"\"\n",
    "DON'T MODIFY ANYTHING IN THIS CELL THAT IS BELOW THIS LINE\n",
    "\"\"\"\n",
    "save_dir = './save'"
   ]
  },
  {
   "cell_type": "markdown",
   "metadata": {},
   "source": [
    "### Build the Graph\n",
    "Build the graph using the neural network you implemented."
   ]
  },
  {
   "cell_type": "code",
   "execution_count": 187,
   "metadata": {},
   "outputs": [],
   "source": [
    "\"\"\"\n",
    "DON'T MODIFY ANYTHING IN THIS CELL\n",
    "\"\"\"\n",
    "from tensorflow.contrib import seq2seq\n",
    "\n",
    "train_graph = tf.Graph()\n",
    "with train_graph.as_default():\n",
    "    vocab_size = len(int_to_vocab)\n",
    "    input_text, targets, lr = get_inputs()\n",
    "    input_data_shape = tf.shape(input_text)\n",
    "    cell, initial_state = get_init_cell(input_data_shape[0], rnn_size)\n",
    "    logits, final_state = build_nn(cell, rnn_size, input_text, vocab_size, embed_dim)\n",
    "\n",
    "    # Probabilities for generating words\n",
    "    probs = tf.nn.softmax(logits, name='probs')\n",
    "\n",
    "    # Loss function\n",
    "    cost = seq2seq.sequence_loss(\n",
    "        logits,\n",
    "        targets,\n",
    "        tf.ones([input_data_shape[0], input_data_shape[1]]))\n",
    "\n",
    "    # Optimizer\n",
    "    optimizer = tf.train.AdamOptimizer(lr)\n",
    "\n",
    "    # Gradient Clipping\n",
    "    gradients = optimizer.compute_gradients(cost)\n",
    "    capped_gradients = [(tf.clip_by_value(grad, -1., 1.), var) for grad, var in gradients if grad is not None]\n",
    "    train_op = optimizer.apply_gradients(capped_gradients)"
   ]
  },
  {
   "cell_type": "markdown",
   "metadata": {},
   "source": [
    "## Train\n",
    "Train the neural network on the preprocessed data.  If you have a hard time getting a good loss, check the [forms](https://discussions.udacity.com/) to see if anyone is having the same problem."
   ]
  },
  {
   "cell_type": "code",
   "execution_count": 188,
   "metadata": {
    "scrolled": false
   },
   "outputs": [
    {
     "name": "stdout",
     "output_type": "stream",
     "text": [
      "Epoch   0 Batch    0/35   train_loss = 8.822\n",
      "Epoch   2 Batch   30/35   train_loss = 5.946\n",
      "Epoch   5 Batch   25/35   train_loss = 5.403\n",
      "Epoch   8 Batch   20/35   train_loss = 5.131\n",
      "Epoch  11 Batch   15/35   train_loss = 4.821\n",
      "Epoch  14 Batch   10/35   train_loss = 4.626\n",
      "Epoch  17 Batch    5/35   train_loss = 4.336\n",
      "Epoch  20 Batch    0/35   train_loss = 4.156\n",
      "Epoch  22 Batch   30/35   train_loss = 3.924\n",
      "Epoch  25 Batch   25/35   train_loss = 3.746\n",
      "Epoch  28 Batch   20/35   train_loss = 3.573\n",
      "Epoch  31 Batch   15/35   train_loss = 3.442\n",
      "Epoch  34 Batch   10/35   train_loss = 3.419\n",
      "Epoch  37 Batch    5/35   train_loss = 3.188\n",
      "Epoch  40 Batch    0/35   train_loss = 2.994\n",
      "Epoch  42 Batch   30/35   train_loss = 2.785\n",
      "Epoch  45 Batch   25/35   train_loss = 2.766\n",
      "Epoch  48 Batch   20/35   train_loss = 2.518\n",
      "Epoch  51 Batch   15/35   train_loss = 2.468\n",
      "Epoch  54 Batch   10/35   train_loss = 2.351\n",
      "Epoch  57 Batch    5/35   train_loss = 2.290\n",
      "Epoch  60 Batch    0/35   train_loss = 2.231\n",
      "Epoch  62 Batch   30/35   train_loss = 2.102\n",
      "Epoch  65 Batch   25/35   train_loss = 2.058\n",
      "Epoch  68 Batch   20/35   train_loss = 1.777\n",
      "Epoch  71 Batch   15/35   train_loss = 1.738\n",
      "Epoch  74 Batch   10/35   train_loss = 1.674\n",
      "Epoch  77 Batch    5/35   train_loss = 1.609\n",
      "Epoch  80 Batch    0/35   train_loss = 1.618\n",
      "Epoch  82 Batch   30/35   train_loss = 1.468\n",
      "Epoch  85 Batch   25/35   train_loss = 1.465\n",
      "Epoch  88 Batch   20/35   train_loss = 1.270\n",
      "Epoch  91 Batch   15/35   train_loss = 1.284\n",
      "Epoch  94 Batch   10/35   train_loss = 1.244\n",
      "Epoch  97 Batch    5/35   train_loss = 1.248\n",
      "Epoch 100 Batch    0/35   train_loss = 1.195\n",
      "Epoch 102 Batch   30/35   train_loss = 1.126\n",
      "Epoch 105 Batch   25/35   train_loss = 1.122\n",
      "Epoch 108 Batch   20/35   train_loss = 0.967\n",
      "Epoch 111 Batch   15/35   train_loss = 0.971\n",
      "Epoch 114 Batch   10/35   train_loss = 0.913\n",
      "Epoch 117 Batch    5/35   train_loss = 0.923\n",
      "Epoch 120 Batch    0/35   train_loss = 0.944\n",
      "Epoch 122 Batch   30/35   train_loss = 0.894\n",
      "Epoch 125 Batch   25/35   train_loss = 0.874\n",
      "Epoch 128 Batch   20/35   train_loss = 0.807\n",
      "Epoch 131 Batch   15/35   train_loss = 0.808\n",
      "Epoch 134 Batch   10/35   train_loss = 0.786\n",
      "Epoch 137 Batch    5/35   train_loss = 0.778\n",
      "Epoch 140 Batch    0/35   train_loss = 0.768\n",
      "Epoch 142 Batch   30/35   train_loss = 0.722\n",
      "Epoch 145 Batch   25/35   train_loss = 0.707\n",
      "Epoch 148 Batch   20/35   train_loss = 0.634\n",
      "Epoch 151 Batch   15/35   train_loss = 0.617\n",
      "Epoch 154 Batch   10/35   train_loss = 0.621\n",
      "Epoch 157 Batch    5/35   train_loss = 0.600\n",
      "Epoch 160 Batch    0/35   train_loss = 0.572\n",
      "Epoch 162 Batch   30/35   train_loss = 0.526\n",
      "Epoch 165 Batch   25/35   train_loss = 0.546\n",
      "Epoch 168 Batch   20/35   train_loss = 0.459\n",
      "Epoch 171 Batch   15/35   train_loss = 0.480\n",
      "Epoch 174 Batch   10/35   train_loss = 0.463\n",
      "Epoch 177 Batch    5/35   train_loss = 0.450\n",
      "Epoch 180 Batch    0/35   train_loss = 0.472\n",
      "Epoch 182 Batch   30/35   train_loss = 0.455\n",
      "Epoch 185 Batch   25/35   train_loss = 0.420\n",
      "Epoch 188 Batch   20/35   train_loss = 0.395\n",
      "Epoch 191 Batch   15/35   train_loss = 0.410\n",
      "Epoch 194 Batch   10/35   train_loss = 0.418\n",
      "Epoch 197 Batch    5/35   train_loss = 0.380\n",
      "Epoch 200 Batch    0/35   train_loss = 0.381\n",
      "Epoch 202 Batch   30/35   train_loss = 0.361\n",
      "Epoch 205 Batch   25/35   train_loss = 0.352\n",
      "Epoch 208 Batch   20/35   train_loss = 0.322\n",
      "Epoch 211 Batch   15/35   train_loss = 0.366\n",
      "Epoch 214 Batch   10/35   train_loss = 0.401\n",
      "Epoch 217 Batch    5/35   train_loss = 0.444\n",
      "Epoch 220 Batch    0/35   train_loss = 0.441\n",
      "Epoch 222 Batch   30/35   train_loss = 0.366\n",
      "Epoch 225 Batch   25/35   train_loss = 0.328\n",
      "Epoch 228 Batch   20/35   train_loss = 0.271\n",
      "Epoch 231 Batch   15/35   train_loss = 0.301\n",
      "Epoch 234 Batch   10/35   train_loss = 0.289\n",
      "Epoch 237 Batch    5/35   train_loss = 0.278\n",
      "Epoch 240 Batch    0/35   train_loss = 0.305\n",
      "Epoch 242 Batch   30/35   train_loss = 0.289\n",
      "Epoch 245 Batch   25/35   train_loss = 0.293\n",
      "Epoch 248 Batch   20/35   train_loss = 0.399\n",
      "Epoch 251 Batch   15/35   train_loss = 0.742\n",
      "Epoch 254 Batch   10/35   train_loss = 0.581\n",
      "Epoch 257 Batch    5/35   train_loss = 0.387\n",
      "Epoch 260 Batch    0/35   train_loss = 0.325\n",
      "Epoch 262 Batch   30/35   train_loss = 0.277\n",
      "Epoch 265 Batch   25/35   train_loss = 0.259\n",
      "Epoch 268 Batch   20/35   train_loss = 0.241\n",
      "Epoch 271 Batch   15/35   train_loss = 0.269\n",
      "Epoch 274 Batch   10/35   train_loss = 0.270\n",
      "Epoch 277 Batch    5/35   train_loss = 0.261\n",
      "Epoch 280 Batch    0/35   train_loss = 0.264\n",
      "Epoch 282 Batch   30/35   train_loss = 0.264\n",
      "Epoch 285 Batch   25/35   train_loss = 0.249\n",
      "Epoch 288 Batch   20/35   train_loss = 0.231\n",
      "Epoch 291 Batch   15/35   train_loss = 0.268\n",
      "Epoch 294 Batch   10/35   train_loss = 0.268\n",
      "Epoch 297 Batch    5/35   train_loss = 0.290\n",
      "Epoch 300 Batch    0/35   train_loss = 0.404\n",
      "Epoch 302 Batch   30/35   train_loss = 0.886\n",
      "Epoch 305 Batch   25/35   train_loss = 0.652\n",
      "Epoch 308 Batch   20/35   train_loss = 0.396\n",
      "Epoch 311 Batch   15/35   train_loss = 0.300\n",
      "Epoch 314 Batch   10/35   train_loss = 0.267\n",
      "Epoch 317 Batch    5/35   train_loss = 0.252\n",
      "Epoch 320 Batch    0/35   train_loss = 0.251\n",
      "Epoch 322 Batch   30/35   train_loss = 0.239\n",
      "Epoch 325 Batch   25/35   train_loss = 0.231\n",
      "Epoch 328 Batch   20/35   train_loss = 0.216\n",
      "Epoch 331 Batch   15/35   train_loss = 0.248\n",
      "Epoch 334 Batch   10/35   train_loss = 0.240\n",
      "Epoch 337 Batch    5/35   train_loss = 0.238\n",
      "Epoch 340 Batch    0/35   train_loss = 0.237\n",
      "Epoch 342 Batch   30/35   train_loss = 0.231\n",
      "Epoch 345 Batch   25/35   train_loss = 0.223\n",
      "Epoch 348 Batch   20/35   train_loss = 0.210\n",
      "Epoch 351 Batch   15/35   train_loss = 0.241\n",
      "Epoch 354 Batch   10/35   train_loss = 0.234\n",
      "Epoch 357 Batch    5/35   train_loss = 0.238\n",
      "Epoch 360 Batch    0/35   train_loss = 0.251\n",
      "Epoch 362 Batch   30/35   train_loss = 0.656\n",
      "Epoch 365 Batch   25/35   train_loss = 1.311\n",
      "Epoch 368 Batch   20/35   train_loss = 0.621\n",
      "Epoch 371 Batch   15/35   train_loss = 0.401\n",
      "Epoch 374 Batch   10/35   train_loss = 0.300\n",
      "Epoch 377 Batch    5/35   train_loss = 0.262\n",
      "Epoch 380 Batch    0/35   train_loss = 0.253\n",
      "Epoch 382 Batch   30/35   train_loss = 0.238\n",
      "Epoch 385 Batch   25/35   train_loss = 0.230\n",
      "Epoch 388 Batch   20/35   train_loss = 0.214\n",
      "Epoch 391 Batch   15/35   train_loss = 0.244\n",
      "Epoch 394 Batch   10/35   train_loss = 0.237\n",
      "Epoch 397 Batch    5/35   train_loss = 0.237\n",
      "Epoch 400 Batch    0/35   train_loss = 0.235\n",
      "Epoch 402 Batch   30/35   train_loss = 0.228\n",
      "Epoch 405 Batch   25/35   train_loss = 0.221\n",
      "Epoch 408 Batch   20/35   train_loss = 0.209\n",
      "Epoch 411 Batch   15/35   train_loss = 0.240\n",
      "Epoch 414 Batch   10/35   train_loss = 0.232\n",
      "Epoch 417 Batch    5/35   train_loss = 0.233\n",
      "Epoch 420 Batch    0/35   train_loss = 0.231\n",
      "Epoch 422 Batch   30/35   train_loss = 0.226\n",
      "Epoch 425 Batch   25/35   train_loss = 0.226\n",
      "Epoch 428 Batch   20/35   train_loss = 0.248\n",
      "Epoch 431 Batch   15/35   train_loss = 1.113\n",
      "Epoch 434 Batch   10/35   train_loss = 1.019\n",
      "Epoch 437 Batch    5/35   train_loss = 0.534\n",
      "Epoch 440 Batch    0/35   train_loss = 0.355\n",
      "Epoch 442 Batch   30/35   train_loss = 0.274\n",
      "Epoch 445 Batch   25/35   train_loss = 0.243\n",
      "Epoch 448 Batch   20/35   train_loss = 0.223\n",
      "Epoch 451 Batch   15/35   train_loss = 0.247\n",
      "Epoch 454 Batch   10/35   train_loss = 0.238\n",
      "Epoch 457 Batch    5/35   train_loss = 0.238\n",
      "Epoch 460 Batch    0/35   train_loss = 0.235\n",
      "Epoch 462 Batch   30/35   train_loss = 0.228\n",
      "Epoch 465 Batch   25/35   train_loss = 0.222\n",
      "Epoch 468 Batch   20/35   train_loss = 0.209\n",
      "Epoch 471 Batch   15/35   train_loss = 0.240\n",
      "Epoch 474 Batch   10/35   train_loss = 0.232\n",
      "Epoch 477 Batch    5/35   train_loss = 0.240\n",
      "Epoch 480 Batch    0/35   train_loss = 0.231\n",
      "Epoch 482 Batch   30/35   train_loss = 0.230\n",
      "Epoch 485 Batch   25/35   train_loss = 0.231\n",
      "Epoch 488 Batch   20/35   train_loss = 0.262\n",
      "Epoch 491 Batch   15/35   train_loss = 0.750\n",
      "Epoch 494 Batch   10/35   train_loss = 0.820\n",
      "Epoch 497 Batch    5/35   train_loss = 0.515\n",
      "Epoch 500 Batch    0/35   train_loss = 0.332\n",
      "Epoch 502 Batch   30/35   train_loss = 0.282\n",
      "Epoch 505 Batch   25/35   train_loss = 0.233\n",
      "Epoch 508 Batch   20/35   train_loss = 0.215\n",
      "Epoch 511 Batch   15/35   train_loss = 0.243\n",
      "Epoch 514 Batch   10/35   train_loss = 0.234\n",
      "Epoch 517 Batch    5/35   train_loss = 0.234\n",
      "Epoch 520 Batch    0/35   train_loss = 0.231\n"
     ]
    },
    {
     "name": "stdout",
     "output_type": "stream",
     "text": [
      "Epoch 522 Batch   30/35   train_loss = 0.224\n",
      "Epoch 525 Batch   25/35   train_loss = 0.219\n",
      "Epoch 528 Batch   20/35   train_loss = 0.207\n",
      "Epoch 531 Batch   15/35   train_loss = 0.238\n",
      "Epoch 534 Batch   10/35   train_loss = 0.228\n",
      "Epoch 537 Batch    5/35   train_loss = 0.230\n",
      "Epoch 540 Batch    0/35   train_loss = 0.228\n",
      "Epoch 542 Batch   30/35   train_loss = 0.222\n",
      "Epoch 545 Batch   25/35   train_loss = 0.217\n",
      "Epoch 548 Batch   20/35   train_loss = 0.205\n",
      "Epoch 551 Batch   15/35   train_loss = 0.236\n",
      "Epoch 554 Batch   10/35   train_loss = 0.229\n",
      "Epoch 557 Batch    5/35   train_loss = 0.233\n",
      "Epoch 560 Batch    0/35   train_loss = 0.252\n",
      "Epoch 562 Batch   30/35   train_loss = 1.425\n",
      "Epoch 565 Batch   25/35   train_loss = 1.038\n",
      "Epoch 568 Batch   20/35   train_loss = 0.509\n",
      "Epoch 571 Batch   15/35   train_loss = 0.346\n",
      "Epoch 574 Batch   10/35   train_loss = 0.276\n",
      "Epoch 577 Batch    5/35   train_loss = 0.254\n",
      "Epoch 580 Batch    0/35   train_loss = 0.242\n",
      "Epoch 582 Batch   30/35   train_loss = 0.231\n",
      "Epoch 585 Batch   25/35   train_loss = 0.223\n",
      "Epoch 588 Batch   20/35   train_loss = 0.210\n",
      "Epoch 591 Batch   15/35   train_loss = 0.240\n",
      "Epoch 594 Batch   10/35   train_loss = 0.231\n",
      "Epoch 597 Batch    5/35   train_loss = 0.232\n",
      "Epoch 600 Batch    0/35   train_loss = 0.229\n",
      "Epoch 602 Batch   30/35   train_loss = 0.223\n",
      "Epoch 605 Batch   25/35   train_loss = 0.218\n",
      "Epoch 608 Batch   20/35   train_loss = 0.206\n",
      "Epoch 611 Batch   15/35   train_loss = 0.237\n",
      "Epoch 614 Batch   10/35   train_loss = 0.227\n",
      "Epoch 617 Batch    5/35   train_loss = 0.229\n",
      "Epoch 620 Batch    0/35   train_loss = 0.227\n",
      "Epoch 622 Batch   30/35   train_loss = 0.225\n",
      "Epoch 625 Batch   25/35   train_loss = 0.220\n",
      "Epoch 628 Batch   20/35   train_loss = 0.219\n",
      "Epoch 631 Batch   15/35   train_loss = 0.808\n",
      "Epoch 634 Batch   10/35   train_loss = 1.041\n",
      "Epoch 637 Batch    5/35   train_loss = 0.659\n",
      "Epoch 640 Batch    0/35   train_loss = 0.360\n",
      "Epoch 642 Batch   30/35   train_loss = 0.283\n",
      "Epoch 645 Batch   25/35   train_loss = 0.237\n",
      "Epoch 648 Batch   20/35   train_loss = 0.215\n",
      "Epoch 651 Batch   15/35   train_loss = 0.242\n",
      "Epoch 654 Batch   10/35   train_loss = 0.232\n",
      "Epoch 657 Batch    5/35   train_loss = 0.234\n",
      "Epoch 660 Batch    0/35   train_loss = 0.230\n",
      "Epoch 662 Batch   30/35   train_loss = 0.224\n",
      "Epoch 665 Batch   25/35   train_loss = 0.218\n",
      "Epoch 668 Batch   20/35   train_loss = 0.206\n",
      "Epoch 671 Batch   15/35   train_loss = 0.237\n",
      "Epoch 674 Batch   10/35   train_loss = 0.227\n",
      "Epoch 677 Batch    5/35   train_loss = 0.230\n",
      "Epoch 680 Batch    0/35   train_loss = 0.226\n",
      "Epoch 682 Batch   30/35   train_loss = 0.221\n",
      "Epoch 685 Batch   25/35   train_loss = 0.216\n",
      "Epoch 688 Batch   20/35   train_loss = 0.221\n",
      "Epoch 691 Batch   15/35   train_loss = 0.241\n",
      "Epoch 694 Batch   10/35   train_loss = 0.247\n",
      "Epoch 697 Batch    5/35   train_loss = 0.707\n",
      "Epoch 700 Batch    0/35   train_loss = 1.036\n",
      "Epoch 702 Batch   30/35   train_loss = 0.625\n",
      "Epoch 705 Batch   25/35   train_loss = 0.355\n",
      "Epoch 708 Batch   20/35   train_loss = 0.258\n",
      "Epoch 711 Batch   15/35   train_loss = 0.253\n",
      "Epoch 714 Batch   10/35   train_loss = 0.238\n",
      "Epoch 717 Batch    5/35   train_loss = 0.236\n",
      "Epoch 720 Batch    0/35   train_loss = 0.232\n",
      "Epoch 722 Batch   30/35   train_loss = 0.225\n",
      "Epoch 725 Batch   25/35   train_loss = 0.218\n",
      "Epoch 728 Batch   20/35   train_loss = 0.205\n",
      "Epoch 731 Batch   15/35   train_loss = 0.236\n",
      "Epoch 734 Batch   10/35   train_loss = 0.227\n",
      "Epoch 737 Batch    5/35   train_loss = 0.229\n",
      "Epoch 740 Batch    0/35   train_loss = 0.226\n",
      "Epoch 742 Batch   30/35   train_loss = 0.221\n",
      "Epoch 745 Batch   25/35   train_loss = 0.215\n",
      "Epoch 748 Batch   20/35   train_loss = 0.203\n",
      "Epoch 751 Batch   15/35   train_loss = 0.234\n",
      "Epoch 754 Batch   10/35   train_loss = 0.225\n",
      "Epoch 757 Batch    5/35   train_loss = 0.227\n",
      "Epoch 760 Batch    0/35   train_loss = 0.224\n",
      "Epoch 762 Batch   30/35   train_loss = 0.220\n",
      "Epoch 765 Batch   25/35   train_loss = 0.214\n",
      "Epoch 768 Batch   20/35   train_loss = 0.203\n",
      "Epoch 771 Batch   15/35   train_loss = 0.239\n",
      "Epoch 774 Batch   10/35   train_loss = 0.861\n",
      "Epoch 777 Batch    5/35   train_loss = 1.243\n",
      "Epoch 780 Batch    0/35   train_loss = 0.734\n",
      "Epoch 782 Batch   30/35   train_loss = 0.397\n",
      "Epoch 785 Batch   25/35   train_loss = 0.281\n",
      "Epoch 788 Batch   20/35   train_loss = 0.234\n",
      "Epoch 791 Batch   15/35   train_loss = 0.251\n",
      "Epoch 794 Batch   10/35   train_loss = 0.237\n",
      "Epoch 797 Batch    5/35   train_loss = 0.235\n",
      "Epoch 800 Batch    0/35   train_loss = 0.232\n",
      "Epoch 802 Batch   30/35   train_loss = 0.226\n",
      "Epoch 805 Batch   25/35   train_loss = 0.218\n",
      "Epoch 808 Batch   20/35   train_loss = 0.206\n",
      "Epoch 811 Batch   15/35   train_loss = 0.237\n",
      "Epoch 814 Batch   10/35   train_loss = 0.227\n",
      "Epoch 817 Batch    5/35   train_loss = 0.228\n",
      "Epoch 820 Batch    0/35   train_loss = 0.226\n",
      "Epoch 822 Batch   30/35   train_loss = 0.222\n",
      "Epoch 825 Batch   25/35   train_loss = 0.215\n",
      "Epoch 828 Batch   20/35   train_loss = 0.203\n",
      "Epoch 831 Batch   15/35   train_loss = 0.235\n",
      "Epoch 834 Batch   10/35   train_loss = 0.225\n",
      "Epoch 837 Batch    5/35   train_loss = 0.226\n",
      "Epoch 840 Batch    0/35   train_loss = 0.225\n",
      "Epoch 842 Batch   30/35   train_loss = 0.221\n",
      "Epoch 845 Batch   25/35   train_loss = 0.225\n",
      "Epoch 848 Batch   20/35   train_loss = 0.819\n",
      "Epoch 851 Batch   15/35   train_loss = 1.144\n",
      "Epoch 854 Batch   10/35   train_loss = 0.626\n",
      "Epoch 857 Batch    5/35   train_loss = 0.410\n",
      "Epoch 860 Batch    0/35   train_loss = 0.291\n",
      "Epoch 862 Batch   30/35   train_loss = 0.250\n",
      "Epoch 865 Batch   25/35   train_loss = 0.226\n",
      "Epoch 868 Batch   20/35   train_loss = 0.211\n",
      "Epoch 871 Batch   15/35   train_loss = 0.240\n",
      "Epoch 874 Batch   10/35   train_loss = 0.230\n",
      "Epoch 877 Batch    5/35   train_loss = 0.231\n",
      "Epoch 880 Batch    0/35   train_loss = 0.229\n",
      "Epoch 882 Batch   30/35   train_loss = 0.223\n",
      "Epoch 885 Batch   25/35   train_loss = 0.216\n",
      "Epoch 888 Batch   20/35   train_loss = 0.204\n",
      "Epoch 891 Batch   15/35   train_loss = 0.235\n",
      "Epoch 894 Batch   10/35   train_loss = 0.226\n",
      "Epoch 897 Batch    5/35   train_loss = 0.227\n",
      "Epoch 900 Batch    0/35   train_loss = 0.225\n",
      "Epoch 902 Batch   30/35   train_loss = 0.221\n",
      "Epoch 905 Batch   25/35   train_loss = 0.214\n",
      "Epoch 908 Batch   20/35   train_loss = 0.204\n",
      "Epoch 911 Batch   15/35   train_loss = 0.236\n",
      "Epoch 914 Batch   10/35   train_loss = 0.241\n",
      "Epoch 917 Batch    5/35   train_loss = 0.929\n",
      "Epoch 920 Batch    0/35   train_loss = 1.017\n",
      "Epoch 922 Batch   30/35   train_loss = 0.590\n",
      "Epoch 925 Batch   25/35   train_loss = 0.352\n",
      "Epoch 928 Batch   20/35   train_loss = 0.248\n",
      "Epoch 931 Batch   15/35   train_loss = 0.256\n",
      "Epoch 934 Batch   10/35   train_loss = 0.235\n",
      "Epoch 937 Batch    5/35   train_loss = 0.234\n",
      "Epoch 940 Batch    0/35   train_loss = 0.230\n",
      "Epoch 942 Batch   30/35   train_loss = 0.224\n",
      "Epoch 945 Batch   25/35   train_loss = 0.217\n",
      "Epoch 948 Batch   20/35   train_loss = 0.204\n",
      "Epoch 951 Batch   15/35   train_loss = 0.235\n",
      "Epoch 954 Batch   10/35   train_loss = 0.226\n",
      "Epoch 957 Batch    5/35   train_loss = 0.228\n",
      "Epoch 960 Batch    0/35   train_loss = 0.226\n",
      "Epoch 962 Batch   30/35   train_loss = 0.220\n",
      "Epoch 965 Batch   25/35   train_loss = 0.214\n",
      "Epoch 968 Batch   20/35   train_loss = 0.202\n",
      "Epoch 971 Batch   15/35   train_loss = 0.233\n",
      "Epoch 974 Batch   10/35   train_loss = 0.224\n",
      "Epoch 977 Batch    5/35   train_loss = 0.226\n",
      "Epoch 980 Batch    0/35   train_loss = 0.225\n",
      "Epoch 982 Batch   30/35   train_loss = 0.221\n",
      "Epoch 985 Batch   25/35   train_loss = 0.219\n",
      "Epoch 988 Batch   20/35   train_loss = 0.237\n",
      "Epoch 991 Batch   15/35   train_loss = 1.180\n",
      "Epoch 994 Batch   10/35   train_loss = 0.973\n",
      "Epoch 997 Batch    5/35   train_loss = 0.544\n",
      "Model Trained and Saved\n"
     ]
    }
   ],
   "source": [
    "\"\"\"\n",
    "DON'T MODIFY ANYTHING IN THIS CELL\n",
    "\"\"\"\n",
    "batches = get_batches(int_text, batch_size, seq_length)\n",
    "\n",
    "with tf.Session(graph=train_graph) as sess:\n",
    "    sess.run(tf.global_variables_initializer())\n",
    "\n",
    "    for epoch_i in range(num_epochs):\n",
    "        state = sess.run(initial_state, {input_text: batches[0][0]})\n",
    "\n",
    "        for batch_i, (x, y) in enumerate(batches):\n",
    "            feed = {\n",
    "                input_text: x,\n",
    "                targets: y,\n",
    "                initial_state: state,\n",
    "                lr: learning_rate}\n",
    "            train_loss, state, _ = sess.run([cost, final_state, train_op], feed)\n",
    "\n",
    "            # Show every <show_every_n_batches> batches\n",
    "            if (epoch_i * len(batches) + batch_i) % show_every_n_batches == 0:\n",
    "                print('Epoch {:>3} Batch {:>4}/{}   train_loss = {:.3f}'.format(\n",
    "                    epoch_i,\n",
    "                    batch_i,\n",
    "                    len(batches),\n",
    "                    train_loss))\n",
    "\n",
    "    # Save Model\n",
    "    saver = tf.train.Saver()\n",
    "    saver.save(sess, save_dir)\n",
    "    print('Model Trained and Saved')"
   ]
  },
  {
   "cell_type": "markdown",
   "metadata": {},
   "source": [
    "## Save Parameters\n",
    "Save `seq_length` and `save_dir` for generating a new TV script."
   ]
  },
  {
   "cell_type": "code",
   "execution_count": 189,
   "metadata": {},
   "outputs": [],
   "source": [
    "\"\"\"\n",
    "DON'T MODIFY ANYTHING IN THIS CELL\n",
    "\"\"\"\n",
    "# Save parameters for checkpoint\n",
    "helper.save_params((seq_length, save_dir))"
   ]
  },
  {
   "cell_type": "markdown",
   "metadata": {},
   "source": [
    "# Checkpoint"
   ]
  },
  {
   "cell_type": "code",
   "execution_count": 190,
   "metadata": {},
   "outputs": [],
   "source": [
    "\"\"\"\n",
    "DON'T MODIFY ANYTHING IN THIS CELL\n",
    "\"\"\"\n",
    "import tensorflow as tf\n",
    "import numpy as np\n",
    "import helper\n",
    "import problem_unittests as tests\n",
    "\n",
    "_, vocab_to_int, int_to_vocab, token_dict = helper.load_preprocess()\n",
    "seq_length, load_dir = helper.load_params()"
   ]
  },
  {
   "cell_type": "markdown",
   "metadata": {},
   "source": [
    "## Implement Generate Functions\n",
    "### Get Tensors\n",
    "Get tensors from `loaded_graph` using the function [`get_tensor_by_name()`](https://www.tensorflow.org/api_docs/python/tf/Graph#get_tensor_by_name).  Get the tensors using the following names:\n",
    "- \"input:0\"\n",
    "- \"initial_state:0\"\n",
    "- \"final_state:0\"\n",
    "- \"probs:0\"\n",
    "\n",
    "Return the tensors in the following tuple `(InputTensor, InitialStateTensor, FinalStateTensor, ProbsTensor)` "
   ]
  },
  {
   "cell_type": "code",
   "execution_count": 191,
   "metadata": {},
   "outputs": [
    {
     "name": "stdout",
     "output_type": "stream",
     "text": [
      "Tests Passed\n"
     ]
    }
   ],
   "source": [
    "def get_tensors(loaded_graph):\n",
    "    \"\"\"\n",
    "    Get input, initial state, final state, and probabilities tensor from <loaded_graph>\n",
    "    :param loaded_graph: TensorFlow graph loaded from file\n",
    "    :return: Tuple (InputTensor, InitialStateTensor, FinalStateTensor, ProbsTensor)\n",
    "    \"\"\"\n",
    "    # TODO: Implement Function\n",
    "    input_tensor = loaded_graph.get_tensor_by_name('input:0')\n",
    "    initial_state_tensor = loaded_graph.get_tensor_by_name('initial_state:0')\n",
    "    final_state_tensor = loaded_graph.get_tensor_by_name('final_state:0')\n",
    "    probs_tensor = loaded_graph.get_tensor_by_name('probs:0')\n",
    "    return input_tensor, initial_state_tensor, final_state_tensor, probs_tensor\n",
    "\n",
    "\n",
    "\"\"\"\n",
    "DON'T MODIFY ANYTHING IN THIS CELL THAT IS BELOW THIS LINE\n",
    "\"\"\"\n",
    "tests.test_get_tensors(get_tensors)"
   ]
  },
  {
   "cell_type": "markdown",
   "metadata": {},
   "source": [
    "### Choose Word\n",
    "Implement the `pick_word()` function to select the next word using `probabilities`."
   ]
  },
  {
   "cell_type": "code",
   "execution_count": 192,
   "metadata": {},
   "outputs": [
    {
     "name": "stdout",
     "output_type": "stream",
     "text": [
      "Tests Passed\n"
     ]
    }
   ],
   "source": [
    "def pick_word(probabilities, int_to_vocab):\n",
    "    \"\"\"\n",
    "    Pick the next word in the generated text\n",
    "    :param probabilities: Probabilites of the next word\n",
    "    :param int_to_vocab: Dictionary of word ids as the keys and words as the values\n",
    "    :return: String of the predicted word\n",
    "    \"\"\"\n",
    "    # TODO: Implement Function\n",
    "    prob_dict = {p:ids for ids, p in enumerate(probabilities)}\n",
    "    predict_word = int_to_vocab[prob_dict[probabilities.max()]]\n",
    "    \n",
    "    #print(int_to_vocab)\n",
    "    #print(predict_word)\n",
    "    return predict_word\n",
    "\n",
    "\n",
    "\"\"\"\n",
    "DON'T MODIFY ANYTHING IN THIS CELL THAT IS BELOW THIS LINE\n",
    "\"\"\"\n",
    "tests.test_pick_word(pick_word)"
   ]
  },
  {
   "cell_type": "markdown",
   "metadata": {},
   "source": [
    "## Generate TV Script\n",
    "This will generate the TV script for you.  Set `gen_length` to the length of TV script you want to generate."
   ]
  },
  {
   "cell_type": "code",
   "execution_count": 193,
   "metadata": {},
   "outputs": [
    {
     "name": "stdout",
     "output_type": "stream",
     "text": [
      "moe_szyslak:(gets idea) actually homer...\n",
      "homer_simpson:(eyes wide moe_szyslak: tell me what? how about dracula?\n",
      "moe_szyslak: eh, sorry,\n",
      "homer_simpson: i dunno, moe. nervous) it!...(to homer) so whaddaya.\n",
      "moe_szyslak:(\n",
      "oh my god, but i am... no kneeling....\n",
      "moe_szyslak: all...\n",
      "lenny_leonard:(emotional) my... what do i find that? you shouldn't.\n",
      "homer_simpson: no. this is my love tester's as a, but i'm gettin' nervous for her the sisters.(pirate card) moe, how about you, a chick--\n",
      "homer_simpson:(sternly) there can be all day.\n",
      "lisa_simpson: that's a old homer, sees\" people should clean sense of mine\n",
      "moe_szyslak: i always have thought now ya gonna follow right on a face.(脌 la simon a beat) okay, i've always wondered if your bad mean of that by the dexterous but who don't drink with a couple hours to stay\n"
     ]
    }
   ],
   "source": [
    "gen_length = 200\n",
    "# homer_simpson, moe_szyslak, or Barney_Gumble\n",
    "prime_word = 'moe_szyslak'\n",
    "\n",
    "\"\"\"\n",
    "DON'T MODIFY ANYTHING IN THIS CELL THAT IS BELOW THIS LINE\n",
    "\"\"\"\n",
    "loaded_graph = tf.Graph()\n",
    "with tf.Session(graph=loaded_graph) as sess:\n",
    "    # Load saved model\n",
    "    loader = tf.train.import_meta_graph(load_dir + '.meta')\n",
    "    loader.restore(sess, load_dir)\n",
    "\n",
    "    # Get Tensors from loaded model\n",
    "    input_text, initial_state, final_state, probs = get_tensors(loaded_graph)\n",
    "\n",
    "    # Sentences generation setup\n",
    "    gen_sentences = [prime_word + ':']\n",
    "    prev_state = sess.run(initial_state, {input_text: np.array([[1]])})\n",
    "\n",
    "    # Generate sentences\n",
    "    for n in range(gen_length):\n",
    "        # Dynamic Input\n",
    "        dyn_input = [[vocab_to_int[word] for word in gen_sentences[-seq_length:]]]\n",
    "        dyn_seq_length = len(dyn_input[0])\n",
    "\n",
    "        # Get Prediction\n",
    "        probabilities, prev_state = sess.run(\n",
    "            [probs, final_state],\n",
    "            {input_text: dyn_input, initial_state: prev_state})\n",
    "        \n",
    "        pred_word = pick_word(probabilities[dyn_seq_length-1], int_to_vocab)\n",
    "\n",
    "        gen_sentences.append(pred_word)\n",
    "    \n",
    "    # Remove tokens\n",
    "    tv_script = ' '.join(gen_sentences)\n",
    "    for key, token in token_dict.items():\n",
    "        ending = ' ' if key in ['\\n', '(', '\"'] else ''\n",
    "        tv_script = tv_script.replace(' ' + token.lower(), key)\n",
    "    tv_script = tv_script.replace('\\n ', '\\n')\n",
    "    tv_script = tv_script.replace('( ', '(')\n",
    "        \n",
    "    print(tv_script)"
   ]
  },
  {
   "cell_type": "markdown",
   "metadata": {},
   "source": [
    "# The TV Script is Nonsensical\n",
    "It's ok if the TV script doesn't make any sense.  We trained on less than a megabyte of text.  In order to get good results, you'll have to use a smaller vocabulary or get more data.  Luckly there's more data!  As we mentioned in the begging of this project, this is a subset of [another dataset](https://www.kaggle.com/wcukierski/the-simpsons-by-the-data).  We didn't have you train on all the data, because that would take too long.  However, you are free to train your neural network on all the data.  After you complete the project, of course.\n",
    "# Submitting This Project\n",
    "When submitting this project, make sure to run all the cells before saving the notebook. Save the notebook file as \"dlnd_tv_script_generation.ipynb\" and save it as a HTML file under \"File\" -> \"Download as\". Include the \"helper.py\" and \"problem_unittests.py\" files in your submission."
   ]
  }
 ],
 "metadata": {
  "kernelspec": {
   "display_name": "Python 3",
   "language": "python",
   "name": "python3"
  },
  "language_info": {
   "codemirror_mode": {
    "name": "ipython",
    "version": 3
   },
   "file_extension": ".py",
   "mimetype": "text/x-python",
   "name": "python",
   "nbconvert_exporter": "python",
   "pygments_lexer": "ipython3",
   "version": "3.5.4"
  },
  "widgets": {
   "state": {},
   "version": "1.1.2"
  }
 },
 "nbformat": 4,
 "nbformat_minor": 1
}
